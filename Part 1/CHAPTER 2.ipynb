{
 "cells": [
  {
   "cell_type": "markdown",
   "id": "6f97b55d",
   "metadata": {},
   "source": [
    "# 2장 - 머신러닝 프로젝트 처음부터 끝까지\n",
    "\n",
    "이 장에서는 여러분이 부동산 회사에 막 고용된 데이터 과학자라고 가정하고 예제 프로젝트의 처음부터 끝까지 진행해보겠습니다\\* 진행할 주요 단계는 다음과 같습니다.\n",
    "\n",
    "1. 큰 그림을 봅니다.  \n",
    "2. 데이터를 구합니다.\n",
    "3. 데이터로부터 통찰을 얻기 위해 탐색하고 시각화합니다.\n",
    "4. 머신러닝 알고리즘을 위해 데이터를 준비합니다.\n",
    "5. 모델을 선택하고 모델을 훈련시킵니다.\n",
    "6. 모델을 상세하게 조정합니다.\n",
    "7. 솔루션을 제시합니다.\n",
    "8. 시스템을 론칭하고 모니터링하고 유지 보수합니다.\n",
    "\n",
    "---\n",
    "\n",
    "\\* 이 예제 프로젝트는 가상으로 만든 것입니다. 머신러닝의 주요 단계를 설명하는 것이 목적이며 부동산 비즈니스에 대해 배우려는 것은 아닙니다.\n"
   ]
  }
 ],
 "metadata": {
  "kernelspec": {
   "display_name": "Python 3 (ipykernel)",
   "language": "python",
   "name": "python3"
  },
  "language_info": {
   "codemirror_mode": {
    "name": "ipython",
    "version": 3
   },
   "file_extension": ".py",
   "mimetype": "text/x-python",
   "name": "python",
   "nbconvert_exporter": "python",
   "pygments_lexer": "ipython3",
   "version": "3.9.13"
  }
 },
 "nbformat": 4,
 "nbformat_minor": 5
}

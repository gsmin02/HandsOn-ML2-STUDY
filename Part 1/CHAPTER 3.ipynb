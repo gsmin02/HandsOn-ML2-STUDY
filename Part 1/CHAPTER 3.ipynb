{
 "cells": [
  {
   "cell_type": "markdown",
   "id": "1c5785cf",
   "metadata": {},
   "source": [
    "# 3장 - 분류\n",
    "\n",
    "1장에서는 가장 일반적인 지도 학습 작업이 회귀(값 예측)와 분류(클래스 예측)라고 했습니다. 2장에서는 주택 각격을 예측하는 회귀 작업을 살펴보면서 선형 회귀, 결정 트리, 랜덤 포레스트(7장에서 더 자세히 설명합니다) 같은 여러 알고리즘을 보았습니다. 이 장에서는 분류 시스템을 집중적으로 다루겠습니다."
   ]
  },
  {
   "cell_type": "markdown",
   "id": "5d051c4b",
   "metadata": {},
   "source": [
    "## 3.1 MNIST\n",
    "\n",
    "이 장에서는 고등학생과 미국 인구 조사국 직원들이 손으로 쓴 70,000개의 작은 숫자 이미지를 모은 MNIST 데이터셋을 사용하겠습니다. 각 이미지에는 어떤 숫자를 나타내는지 레이블되어 있습니다. 이 데이터셋은 학습용으로 아주 많이 사용되기 때문에 머신러닝 분야의 'Hello World'라고 불립니다. 새로운 분류 알고리즘이 나올 때마다 MNIST 데이터셋에서 얼마나 잘 작동하는지 봅니다. 머신러닝을 배우는 사람이라면 머지않아 MNIST 데이터셋을 맞닥뜨리게 될 것입니다.\n",
    "\n",
    "사이킷런에서 제공하는 여러 헬퍼 함수를 사용해 잘 알려진 데이터셋을 내려받을 수 있습니다. MNIST도 그중 하나입니다. 다음은 MNIST 데이터셋을 내려받는 코드입니다.\\*\n",
    "\n",
    "---\n",
    "\n",
    "\\* 기본적으로 사이킷런은 내려받은 데이터셋을 `＄HOME／scikit_learn_data`디렉터리에 캐싱합니다."
   ]
  }
 ],
 "metadata": {
  "kernelspec": {
   "display_name": "Python 3 (ipykernel)",
   "language": "python",
   "name": "python3"
  },
  "language_info": {
   "codemirror_mode": {
    "name": "ipython",
    "version": 3
   },
   "file_extension": ".py",
   "mimetype": "text/x-python",
   "name": "python",
   "nbconvert_exporter": "python",
   "pygments_lexer": "ipython3",
   "version": "3.9.13"
  }
 },
 "nbformat": 4,
 "nbformat_minor": 5
}

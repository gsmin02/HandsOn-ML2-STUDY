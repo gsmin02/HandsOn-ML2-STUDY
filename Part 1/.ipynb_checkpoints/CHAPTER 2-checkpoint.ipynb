{
 "cells": [
  {
   "cell_type": "markdown",
   "id": "6f97b55d",
   "metadata": {},
   "source": [
    "# 2장 - 머신러닝 프로젝트 처음부터 끝까지\n",
    "\n",
    "이 장에서는 여러분이 부동산 회사에 막 고용된 데이터 과학자라고 가정하고 예제 프로젝트의 처음부터 끝까지 진행해보겠습니다\\* 진행할 주요 단계는 다음과 같습니다.\n",
    "\n",
    "1. 큰 그림을 봅니다.  \n",
    "2. 데이터를 구합니다.\n",
    "3. 데이터로부터 통찰을 얻기 위해 탐색하고 시각화합니다.\n",
    "4. 머신러닝 알고리즘을 위해 데이터를 준비합니다.\n",
    "5. 모델을 선택하고 모델을 훈련시킵니다.\n",
    "6. 모델을 상세하게 조정합니다.\n",
    "7. 솔루션을 제시합니다.\n",
    "8. 시스템을 론칭하고 모니터링하고 유지 보수합니다.\n",
    "\n",
    "---\n",
    "\n",
    "\\* 이 예제 프로젝트는 가상으로 만든 것입니다. 머신러닝의 주요 단계를 설명하는 것이 목적이며 부동산 비즈니스에 대해 배우려는 것은 아닙니다.\n"
   ]
  },
  {
   "cell_type": "markdown",
   "id": "1ab0d0ce",
   "metadata": {},
   "source": [
    "## 2.1 실제 데이터로 작업하기\n",
    "\n",
    "머신러닝을 배울 때는 인공적으로 만들어진 데이터셋이 아닌 실제 데이터로 실행해보는 것이 가장 좋습니다. 다행히 여러 분야에 걸쳐 공개된 데이터셋이 아주 많습니다. 다음은 데이터를 구하기 좋은 곳입니다.\n",
    "\n",
    "- 유명한 공개 데이터 저장소\n",
    "    - UC 얼바인$^{Irvine}$ 머신러닝 저장소(http://archive.ics.uci.edu/ml)\n",
    "    - 캐글$^{Kaggle}$ 데이터셋(http://www.kaggle.com/datasets)\n",
    "    - 아마존 AWS 데이터셋(https://registry.opendata.aws)\n",
    "- 메타 포털(공개 데이터 저장소가 나열되어 있습니다)\n",
    "    - 데이터 포털$^{Data \\ Portals}$(http://dataportals.org)\n",
    "    - 오픈 데이터 모니터$^{Open \\ Data \\ Monitor}$(http://opendatamonitor.eu)\n",
    "    - 퀀들$^{Quandl}$(http://quandl.com)\n",
    "- 인기 있는 공개 데이터 저장소가 나열되어 있는 다른 페이지\n",
    "    - 위키백과 머신러닝 데이터셋 목록(https://goo.gl/SJHN2k)\n",
    "    - Quora.com(https://homl.info/10)\n",
    "    - 데이터셋 서브레딧$^{subreddit}$(http://www.reddit.com/r/datasets)\n",
    "\n",
    "이 장에서는 StatLib 저장소\\*에 있는 캘리포니아 주택 가격$^{California \\ Housing \\ Proces}$ 데이터셋을 사용합니다. 이 데이터셋은 1990년 캘리포니아 인구조사 데이터를 기반으로 합니다. 최근 데이터는 아니지만(그 당시의 가격이라면 여러분도 베이 에어리어$^{Bay \\ Area}$에 꽤 좋은 집을 살 수 있습니다) 학습용으로 아주 좋기 때문에 최근 데이터라고 생각하겠습니다. 교육 목적으로 사용하기 위해 범주형 특성을 추가하고 몇 개 특성을 제외했습니다.\n",
    "\n",
    "---\n",
    "\n",
    "\\* 원본데이터는 켈리 페이스(R. Kelley Pace)와 로널드 배리(Ronald Barry)의「Sparse Spatial Autoregressions」, Statistics \\& Probability Letterts 33, no.3 (1997): 291-297에 기술되어 있습니다. StatLib 저장소는 카네기 멜론(Carnegie Mellon) 대학교의 통계학과에서 운영하는 공개 데이텃셋 저장소입니다(http://lib.stat.cmu.edu/datasets/). 여기세서는 원본 데이터셋을 약간 수정한 버전을 사용합니다(https://goo.gl/QgRbUL)."
   ]
  },
  {
   "cell_type": "markdown",
   "id": "3877a804",
   "metadata": {},
   "source": [
    "## 2.2 큰 그림 보기\n",
    "\n",
    "머신러닝 주택 회사에 오신 것을 환영합니다! 맨 처음 할 일은 캘리포니아 인수조사 데이터를 사용해 캘리포니아의 주택 가격 모델을 만드는 것입니다. 이 데이터는 캘리포니아의 블록 그룹$^{block \\ group}$마다 인구$^{population}$, 중간 소득$^{median \\ income}$, 중간 주택 가격$^{median \\ housing \\ price}$ 등을 담고 있습니다. 블록 그룹은 미국 인구조사국에서 샘플 데이터를 발표하는 데 사용하는 최소한의 지리적 단위입니다(하나의 블록 그룹은 보통 600~3,000명의 인구를 나타냅니다). 여기서는 간단하게 구역이라고 부르겠습니다.\n",
    "\n",
    "이 데이터로 모델을 학습시켜서 다른 측정 데이터가 주어졌을 때 구역의 중간 주택 가격을 예측해야 합니다.\n",
    "\n",
    "<span style=\"color: #FFA500\">TIP</span> 잘 훈련된 데이터 과학자로서 여러분이 첫 번째로 할 일은 머신러닝 프로젝트 체크리스트를 준비하는 것입니다. 부록 B에 준비한 것을 사용해도 됩니다. 대부분의 머신러닝 프로젝트에 잘 들어맞지만 필요에 따라 수정하는 것이 좋습니다. 이 장에서는 체크리스트에 있는 많은 항목을 다루겠지만 스스로 충분히 이해할 수 있는 항목이나 다음 장에서 논의할 항목은 건너뛰겠습니다."
   ]
  },
  {
   "cell_type": "markdown",
   "id": "c978730d",
   "metadata": {},
   "source": [
    "### 2.2.1 문제 정의\n",
    "\n",
    "상사에게 첫 번째로 할 질문은 \"비즈니스의 목적이 정확히 무엇인가요?'입니다. 아마도 모델 만들기가 최종 목적은 아닐 것입니다. 회사에서는 이 모델을 어떻게 사용해 이익을 얻으려고 할까요? 목적을 아는 것은 문제를 어떻게 구성할지, 어떤 알고리즘을 선택할지, 모델 평가에 어떤 성능 지표를 사용하지, 모델 튜닝을 위해 얼마나 노력을 투여할지 결정하기 때문에 아주 중요합니다.\n",
    "\n",
    "상사가 이 모델의 출력(구역의 중간 주택 가격에 대한 예측)이 여러 가지 다른 <span style=\"color: #008000\">신호</span>$^{signal}$\\*와 함께 다른 머신러닝 시스템에 입력으로 사용된다고 이야기합니다. 뒤따르는 시스템이 해당 지역에 투자할 가치가 있는지 결정합니다. 이 결정이 수익에 직결되기 때문에 올바르게 예측하는 것은 매우 중요합니다.\n",
    "\n",
    "---\n",
    "\n",
    "\\* 머신러닝 시스템에 주입하는 정보를 클로드 섀넌(Claude Sgannon)의 정보 이론을 따라 종종'신호'라고 부릅니다. 그는 전기 통신 기술을 개선하기 위해 벨 연구소에서 이 이론을 개발했습니다. 그의 이론에 따흐면 신호/잡음 비율이 높은 것이 좋습니다. 섀넌은 미국의 수학자이자 전기공학자로 디지털 회로 이론을 창시하였고 정보 이론의 아버지로 불립니다."
   ]
  },
  {
   "cell_type": "markdown",
   "id": "e6b63c2c",
   "metadata": {},
   "source": [
    "**파이프라인**\n",
    "\n",
    "데이터 처리 <span style=\"color: #008000\">컴포넌트</span>$^{component}$들이 연속되어 있는 것을 데이터 <span style=\"color: #008000\">파이프라인</span>$^{pipeline}$이라고 합니다. 머신러닝 시스템은 데이터를 조작하고 변환할 일이 많아 파이프라인을 사용하는 일이 매우 흔합니다.\n",
    "\n",
    "보통 컴포넌트들은 비동기적으로 동작합니다. 각 컴포넌트는 많은 데이터를 추출해 처리하고 그 결과를 다른 데이터 저장소로 보냅니다. 그러면 일정 시간 후 파이프라인의 다음 컴포넌트가 그 데이터를 추출해 자신의 출력 결과를 만듭니다. 각 컴포넌트는 완전히 독립적입니다. 즉, 컴포넌트 사이의 인터페이스는 데이터 저장소뿐입니다. 이는 (데이터 흐름도 덕분에) 시스템을 이해하기 쉽게 만들고, 각 팀은 각자의 컴포넌트에 집중할 수 있습니다 .한 컴포넌트가 다운되더라도 하위 컴포는트는 문제가 생긴 컴포넌트의 마지막 출력을 사용해 (적어도 한동안은) 평상시와 같이 계속 동작할 수 있습니다. 그래서 시스템이 매우 견고해집니다.\n",
    "\n",
    "한편 모니터링이 적절히 되지 않으면 고장 난 컴포넌트를 한동안 모를 수 있습니다. 데이터가 만들어진지 오래 되면 전체 시스템의 성능이 떨어집니다."
   ]
  },
  {
   "cell_type": "markdown",
   "id": "7ea13805",
   "metadata": {},
   "source": [
    "다음으로 상사에게 던질 질문은 '현재 솔루션은 어떻게 구성되어 있나요?'입니다(만약 있다면). 현재 상황은 문제 래결 방법에 대한 정보는 물론이고 참고 성능으로도 사용할 수 있습니다. 상사가 현재는 구역 주택 가격을 전문가가 수동으로 추정한다고 알려주었습니다. 한 팀이 구역에 관한 최신 정보를 모으고 있는데 중간 주택 가격을 얻을 수 없을 때는 복잡한 규칙을 사용하여 추정을 합니다.\n",
    "\n",
    "이는 비용과 시간이 많이 들고 추정 결과도 썩 좋지 않습니다. 실제 중간 주택 가격을 구해보면 팀에서 추정한 것이 20% 이상 벗어났음을 알게 될 때가 많습니다. 이런 이유로 회사는 구역의 데이터를 기반으로 중간 주택 가격을 예측하는 모델을 훈련시키는 쪽이 유용하다고 생각합니다. 인구조사 데이터에는 다른 데이터는 물론 수천 개 구역의 중간 주택 가격을 포함하므로 이 작업에 매우 적합한 데이터셋으로 보입니다.\n",
    "\n",
    "이제 이런 정보들을 가지고 시스템을 설계할 준비가 되었습니다. 먼저 문제를 정의해야 합니다. 이는 지도 학습, 비지도 학습, 강화 학습 중 무엇일까요? 분류나 회귀인가요 아니면 다른 어떤 작업인가요? 배치 학습과 온라인 학습 중 어느 것을 사용해야 하나요? 이 책을 계속 읽어나가기 전에 잠시 멈추고 이 질문들의 답을 찾아보세요."
   ]
  },
  {
   "cell_type": "markdown",
   "id": "123a9902",
   "metadata": {},
   "source": [
    "답을 찾았나요? 같이 한번 보겠습니다. <span style=\"color: #008000\">레이블</span>된 훈련 샘플이 있으니 (각 샘플이 기대 출력값, 즉 구역의 중간 주택 가격을 가지고 있습니다) 이는 전형적인 지도 학습 작업입니다. 또한 값을 예측해야 하므로 전형적인 회귀 문제입니다. 좀 더 구체적으로는 예측에 사용할 측성이 여러 개(구역의 인구, 중간 소득 등)이므로 <span style=\"color: #008000\">다중 회귀</span>$^{multiple \\ regression}$ 문제입니다. 또한 각 구역마다 하나의 값을 예측하므로 <span style=\"color: #008000\">다변량 회귀</span>$^{univariate \\ regression}$ 문제 입니다. 구역마다 여러 값을 예측한다면 <span style=\"color: #008000\">다변량 회귀</span>$^{multivariate \\ regression}$ 문제입니다. 마지막으로 이 시스템으로 들어오는 데이터에 연속적인 흐름이 없으므로 빠르게 변하는 데이터에 적응하지 않아도 되고, 데이터가 메모리에 들어갈 만큼 충분히 작으므로 일반적인 배치 학습이 적절합니다.\n",
    "\n",
    "<span style=\"color: #FFA500\">TIP</span> 데이터가 매우 크면(<span style=\"color: #008000\">맵리듀스</span>$^{MapReduce}$\\* 기술을 사용하여) 배치 학습을 여러 서버로 분할하거나, 대신 온라인 학습 기법을 사용할 수 있습니다.\n",
    "\n",
    "---\n",
    "\n",
    "\\* 맵리듀스가 구현된 대표적인 프레임워크는 아파치 하둡(Hadoop) 프로젝트입니다(http://hadoop.apache.org). 하둡을 사용하여 직접 회귀 분석을 구현할 수 있지만 일반적으로 맵리듀스에서는 스파크(Spark)의 MLlib(https://spark.apache.org/mllib) 을 사용하는 것이 편리하고 성능도 뛰어납니다."
   ]
  },
  {
   "cell_type": "markdown",
   "id": "e47dff70",
   "metadata": {},
   "source": [
    "### 2.2.2 성능 측정 지표 선택\n",
    "\n",
    "다음 단계는 성능 측정 지표를 선택하는 것입니다. 회귀 문제의 전형적인 성능 지표는 <span style=\"color: #008000\">평균 제곱근 오차</span>$^{root \\ mean \\ square \\ error}$(RMSE)입니다. 오차가 커질수록 이 값은 더욱 커지므로 예측에 얼마나 많은 오류가 있는지 가늠하게 해줍니다. 아래 식은 RMSE를 계산하는 공식입니다.\n",
    "\n",
    "$$ RMSE(X, h) = \\sqrt{\\frac{1}{m} \\sum_{i=1}^m (h(x^{(i)}) － y^{(i)})^2 } $$"
   ]
  },
  {
   "cell_type": "markdown",
   "id": "b0585f6b",
   "metadata": {},
   "source": [
    "**표기법**\n",
    "\n",
    "위 식에서 이 책 전체에 걸쳐 사용할 대표적인 머신러닝 분야의 표기법 몇 가지를 볼 수 있습니다.\n",
    "\n",
    "- $m$은 RMSE를 측정할 데이터셋에 있는 샘플 수입니다.  \n",
    "    예를 들어 2,000개 구역의 검증 세트에 대해 RMSE를 평가한다면 $m=2,000$입니다.\n",
    "- $x^{(i)}$는 데이터셋에 있는 $i$번째 샘플(레이블은 제외한)의 전체 특성값의 벡터이고, $y^{(i)}$는 해당 레이블(해당 샘플의 기대 출력값)입니다.  \n",
    "    예를 들어 데이터셋에 있는 첫 번째 구역이 경도 -118.29˚, 위도 33.91˚에 위치하고, 중간 소득이 ＄38,372이며, 주민이 1,416명, 중간 주택 가격이 ＄156,400라면 $x^{(i)}$과 $y^{(i)}$은 다음과 같습니다(여기서 다른 특성은 고려하지 않았습니다).\n",
    "    \n",
    "$$ x^{(1)} = \\left( \\begin{array}{cc} \\ －118.29 \\ \\\\ \\ 33.91 \\ \\\\ \\ 1,416 \\ \\\\ \\ 38.372 \\ \\\\ \\end{array} \\right) $$\n",
    "$$ \\\\ $$\n",
    "\n",
    "$$ y^{(1)} = 156,400 $$\n",
    "\n",
    "- $X$는 데이터셋에 있는 모든 샘플의 모든 특성값(레이블은 제외)을 포함하는 행렬입니다. 샘플 하나가 하나의 행이어서 $i$번째 행은 $X^{(i)}$의 전치\\*와 같고 $(X^{(i)})^T$ 으로 표기합니다.  \n",
    "    예를 들어 첫 번째 구역이 앞의 예와 같아면 행렬 $X$는 다음과 같습니다.\n",
    "    \n",
    "$$ X = \\left( \\begin{array}{cc} \\ (x^{(1)})^T \\ \\\\ \\ (x^{(2)})^T \\ \\\\ \\ \\vdots \\ \\\\ \\ (x^{(1999)})^T \\ \\\\ \\ (x^{(2000)})^T \\ \\\\ \\end{array} \\right) = \\left( \\begin{array}{cc} \\ －118.29　 \\ 33.91　 \\ 1,416　 \\ 38,372　 \\ \\\\ \\ \\vdots　　　 \\ \\vdots　　　 \\ \\vdots　　　 \\ \\vdots　　　 \\ \\\\ \\end{array} 　 \\right) $$\n",
    "\n",
    "- $h$는 시스템의 예측 함수며 <span style=\"color: #008000\">가설</span>$^{hypothesis}$이라고도 합니다. 시스템이 하나의 샘플 특성 벡터 $x^{(i)}$를 받으면 그 샘플에 대한 예측값 $\\hat{y}^{(i)}=h(x^{(i)})$를 출력합니다($\\hat{y}$은 'y-햇'이라고 읽습니다).  \n",
    "    예를 들어 시스템이 첫 번째 구역의 중간 주택 가격을 ＄158,400이라고 예측한다면 $\\hat{y}^{(i)}=h(x^{(i)})$ = 158,400입니다. 이 구역에 대한 예측 오차는 $ \\hat{y}^{(1)} － y^{(1)} = 2,000 $입니다.\n",
    "\n",
    "- RMSE($X$, $h$)는 가설 $h$를 사용하여 일련의 샘플을 평가하는 비용 함수입니다.\n",
    "\n",
    "스칼라 값이나 함수를 나타낼 때는 $m$이나 $y^{(i)}$ 또는 $h$와 같이 이탤릭체 소문자, 벡터를 나타낼 때는 $x^{(i)}$와 같이 굵은 소문자, 행렬을 나타낼 때는 $X$와 같이 굵은 대문자를 사용하겠습니다.\n",
    "    \n",
    "---\n",
    "\\* 전치는 열 벡터를 행 벡터로(그리고 반대로도) 바꿉니다."
   ]
  },
  {
   "cell_type": "markdown",
   "id": "6bd746a2",
   "metadata": {},
   "source": [
    "RMSE가 일반적으로 회귀 문제에 선호되는 성능 측정 방법이지만 경우에 따라 다른 함수를 사용할 수도 있습니다. 예를 들어 이상치로 보이는 구역이 많다고 가정합시다. 이런 경우에는 <span style=\"color: #008000\">평균 절대 오차</span>$^{mean \\ absolute \\ error}$(평균 절대 편차$^{mean \\ absolute \\ deviation}$라고도 합니다)를 고려해볼 수 있습니다. 아래 식을 참조하세요.\n",
    "\n",
    "$$ MAE(X, h) = \\frac{1}{m} \\sum_{i=1}^m |h(x^{(i)}－y^{(i)}| $$\n",
    "\n",
    "RMSE와 MAE 모두 예측값의 벡터와 타깃값의 벡터 사이의 거리를 재는 방법입니다. 거리 측정에는 여러 가지 방법(또는 <span style=\"color: #008000\">노름</span>$^{norm}$)이 가능합니다.\n",
    "\n",
    "- 제곱항을 합한 것의 제곱근(RMSE) 계산은 <span style=\"color: #008000\">유클리디안 노름</span>$^{Euclidean \\ norm}$에 해당합니다. 우리와 친숙한 거리 개념입니다. 또는 $\\ell_2$ 노름이하고도 부르며 ||$·$||$_2$ (또는 그냥 ||$·$||)로 표시합니다.\n",
    "\n",
    "- 절댓값의 합을 계산하는 것은 $\\ell_1$ 노름에 해당하며 ||$·$||$_1$로 표기합니다. 이는 도시의 구획이 직각으로 나뉘어 있을 때 이 도시의 두 지점 사이의 거리를 측정하는 것과 같아 <span style=\"color: #008000\">맨해튼 노름</span>$^{Manhattan \\ norm}$이라고도 합니다.\n",
    "\n",
    "- 일반적으로 원소가 $n$개인 벡터 **v**의 $\\ell_k$ 노름은 ||**V**||$_k$ = $ \\left( |v_0|^k ＋ |v_1|^k ＋···＋|v_n|^k \\right) \\ ^\\frac{1}{k} $으로 정의합니다. $\\ell_0$은 단순히 벡터에 있는 0이 아닌 원수의 수이고, $\\ell_{\\infty}$는 벡터에서 가장 큰 절댓값이 됩니다.\n",
    "- 노름의 지수가 클수록 큰 값의 원소에 치우치며 작은 값은 무시됩니다. 그래서 RMSE가 MAE보다 조금 더 이상치에 민감합니다. 하지만 (종 모양의 분포의 양 끝단처럼) 이상치가 매우 드물면 RMSE가 잘 맞아 일반적으로 널리 사용됩니다."
   ]
  },
  {
   "cell_type": "markdown",
   "id": "ebd9e85a",
   "metadata": {},
   "source": [
    "### 2.2.3 가정 검사\n",
    "\n",
    "마지막으로 (여러분과 동료들이) 지금까지 만든 가정을 나열하고 검사해보는 것이 좋습니다. 이 과정에서 심각한 문제를 일찍 발견할 수도 있습니다. 예를 들어 시스템이 출력한 구역의 가격이 다음 머신러닝 시스템의 입력으로 들어가게 되는데 이 값이 있는 그래도 사용될 거라 가정했습니다. 하지만 하위 시스템에서 이 값을 ('저렴', '보통', '고가' 같은) 카테고리로 바꾸고 가격 대신 카테고리를 사용하면 어떻게 될까요? 이럴 때는 정확한 가격을 구하는 것이 전혀 중요하지 않습니다. 올바른 카테고리를 구하는 시스템이 필요합니다. 그렇다면 이제 이 문제는 회귀가 아니라 분류 작업이 됩니다. 몇 달 동안 회귀 시스템을 구축하고 나서야 이런 사실을 깨닫게 되는 것을 아무도 원치 않을 것입니다.\n",
    "\n",
    "다행히도 하위 시스템을 담당하는 팀과 대화 후 그들이 카테고리가 아니라 실제 가격을 사용한다는 것을 확인했습니다. 훌륭합니다! 모든 것이 준비 되었고 출발선에 섰습니다. 이제 코딩을 시작할 수 있습니다!"
   ]
  },
  {
   "cell_type": "markdown",
   "id": "fcbf6202",
   "metadata": {},
   "source": [
    "## 2.3 데이터 가져오기\n",
    "\n",
    "이제 직접 키보드를 두드릴 차례입니다. 주피터 노트북에 있는 다음 코드 예제를 따라 해보세요. 전체 주피터 노트북은 https://github.com./rickiepark/handson-ml2 \\* 에 있습니다.\n",
    "\n",
    "----\n",
    "\\* 이 주소는 옮긴이의 저장소입니다. 저자의 저장소는 https://github.com/ageron/handson-ml2 입니다."
   ]
  },
  {
   "cell_type": "markdown",
   "id": "892fcf94",
   "metadata": {},
   "source": [
    "### 2.3.2 데이터 다운로드\n",
    "\n",
    "일반적으로 여러분이 다룰 데이터는 관계형 데이터베이스(또는 다른 데이터 저장소)에 들어있고 여러 테이블, 문서, 파일로 나뉘어 있을 것입니다. 이런 데이터에 접근하려면 먼저 보안 자격과 접근 권한이 있어야 하고\\* 그 데이터의 구조를 잘 알고 있어야 합니다. 하지만 이 프로젝트는 간단합니다. 모든 데이터가 들어 있는 CSV$^{comma-separated \\ value}$ 파일인 **housing.csv** 를 압축한 **housing.tgz** 파일을 내려받기만 하면 됩니다.\n",
    "\n",
    "웹 브라우저를 사용해 이 파일을 내려 받고 **tar xzf housing.tgz** 명령을 실행해서 압축을 출어 CSV 파일을 얻을 수 있지만, 간단한 함수를 만들어 사용하면 더 편합니다. 데이터를 다운로드하는 함수를 준비하면 특히 데이터가 정기적으로 바뀌는 경우에 유용합니다. 최근 데이터를 받기 위해 이 함수를 사용하는 짧은 스크립트를 작성할 수 있습니다(또는 스케줄링하여 주기적으로 자동 실행할 수도 있습니다). 데이터를 내려받는 일을 자동화하면 여러 기기에 데이터셋을 설치해야 할 때도 편리합니다.\n",
    "\n",
    "다음 코드가 데이터를 추출하는 함수입니다.\\**\n",
    "\n",
    "---\n",
    "\n",
    "\\* 또한 개인 정보가 담긴 필드가 안전하지 않은 저장소로 복사되지 않는 등의 법적 제약도 검토해야 합니다.\n",
    "\\** 실제 프로젝트에서는 이 코드를 파이썬 파일에 저장하지만 여기서는 그냥 주피터 노트북에 작성합니다."
   ]
  },
  {
   "cell_type": "code",
   "execution_count": 1,
   "id": "2c2699c6",
   "metadata": {},
   "outputs": [],
   "source": [
    "import os\n",
    "import tarfile\n",
    "import urllib.request\n",
    "\n",
    "DOWNLOAD_ROOT = \"https://raw.githubusercontent.com/rickiepark/handson-ml2/master/\"\n",
    "HOUSING_PATH = os.path.join(\"datasets\", \"housing\")\n",
    "HOUSING_URL = DOWNLOAD_ROOT + \"datasets/housing/housing.tgz\"\n",
    "\n",
    "def fetch_housing_data(housing_url=HOUSING_URL, housing_path=HOUSING_PATH):\n",
    "    if not os.path.isdir(housing_path):\n",
    "        os.makedirs(housing_path)\n",
    "    tgz_path = os.path.join(housing_path, \"housing.tgz\")\n",
    "    urllib.request.urlretrieve(housing_url, tgz_path)\n",
    "    housing_tgz = tarfile.open(tgz_path)\n",
    "    housing_tgz.extractall(path=housing_path)\n",
    "    housing_tgz.close()"
   ]
  },
  {
   "cell_type": "code",
   "execution_count": 3,
   "id": "18773bef",
   "metadata": {},
   "outputs": [],
   "source": [
    "fetch_housing_data()"
   ]
  },
  {
   "cell_type": "markdown",
   "id": "9b639338",
   "metadata": {},
   "source": [
    "**fetch_housing_data()** 를 호출하면 현재 작업공간에 **datasets/housing** 디렉토리를 만들고 **housing.tgz** 파일을 내려받고 같은 디렉터리에 압축을 풀어 **housing.csv** 파일을 만듭니다.\n",
    "\n",
    "이제 판다스를 사용하여 데이터를 읽어 들이겠습니다. 데이터를 읽어 들이는 간단한 함수도 하나 만듭니다."
   ]
  },
  {
   "cell_type": "code",
   "execution_count": 4,
   "id": "78d88ccc",
   "metadata": {},
   "outputs": [],
   "source": [
    "import pandas as pd\n",
    "\n",
    "def load_housing_data(housing_path=HOUSING_PATH):\n",
    "    csv_path = os.path.join(housing_path, \"housing.csv\")\n",
    "    return pd.read_csv(csv_path)"
   ]
  },
  {
   "cell_type": "markdown",
   "id": "9f2ee6a6",
   "metadata": {},
   "source": [
    "이 함수는 모든 데이터를 담은 판다스의 데이터프레임 객체를 반환합니다."
   ]
  },
  {
   "cell_type": "markdown",
   "id": "afb3b4a5",
   "metadata": {},
   "source": [
    "### 2.3.3 데이터 구조 훑어보기\n",
    "\n",
    "\n",
    "DataFrame의 **head()** 메서드를 사용해 처음 다섯 행을 확인해보겠습니다."
   ]
  },
  {
   "cell_type": "code",
   "execution_count": 5,
   "id": "f535a7b4",
   "metadata": {},
   "outputs": [
    {
     "data": {
      "text/html": [
       "<div>\n",
       "<style scoped>\n",
       "    .dataframe tbody tr th:only-of-type {\n",
       "        vertical-align: middle;\n",
       "    }\n",
       "\n",
       "    .dataframe tbody tr th {\n",
       "        vertical-align: top;\n",
       "    }\n",
       "\n",
       "    .dataframe thead th {\n",
       "        text-align: right;\n",
       "    }\n",
       "</style>\n",
       "<table border=\"1\" class=\"dataframe\">\n",
       "  <thead>\n",
       "    <tr style=\"text-align: right;\">\n",
       "      <th></th>\n",
       "      <th>longitude</th>\n",
       "      <th>latitude</th>\n",
       "      <th>housing_median_age</th>\n",
       "      <th>total_rooms</th>\n",
       "      <th>total_bedrooms</th>\n",
       "      <th>population</th>\n",
       "      <th>households</th>\n",
       "      <th>median_income</th>\n",
       "      <th>median_house_value</th>\n",
       "      <th>ocean_proximity</th>\n",
       "    </tr>\n",
       "  </thead>\n",
       "  <tbody>\n",
       "    <tr>\n",
       "      <th>0</th>\n",
       "      <td>-122.23</td>\n",
       "      <td>37.88</td>\n",
       "      <td>41.0</td>\n",
       "      <td>880.0</td>\n",
       "      <td>129.0</td>\n",
       "      <td>322.0</td>\n",
       "      <td>126.0</td>\n",
       "      <td>8.3252</td>\n",
       "      <td>452600.0</td>\n",
       "      <td>NEAR BAY</td>\n",
       "    </tr>\n",
       "    <tr>\n",
       "      <th>1</th>\n",
       "      <td>-122.22</td>\n",
       "      <td>37.86</td>\n",
       "      <td>21.0</td>\n",
       "      <td>7099.0</td>\n",
       "      <td>1106.0</td>\n",
       "      <td>2401.0</td>\n",
       "      <td>1138.0</td>\n",
       "      <td>8.3014</td>\n",
       "      <td>358500.0</td>\n",
       "      <td>NEAR BAY</td>\n",
       "    </tr>\n",
       "    <tr>\n",
       "      <th>2</th>\n",
       "      <td>-122.24</td>\n",
       "      <td>37.85</td>\n",
       "      <td>52.0</td>\n",
       "      <td>1467.0</td>\n",
       "      <td>190.0</td>\n",
       "      <td>496.0</td>\n",
       "      <td>177.0</td>\n",
       "      <td>7.2574</td>\n",
       "      <td>352100.0</td>\n",
       "      <td>NEAR BAY</td>\n",
       "    </tr>\n",
       "    <tr>\n",
       "      <th>3</th>\n",
       "      <td>-122.25</td>\n",
       "      <td>37.85</td>\n",
       "      <td>52.0</td>\n",
       "      <td>1274.0</td>\n",
       "      <td>235.0</td>\n",
       "      <td>558.0</td>\n",
       "      <td>219.0</td>\n",
       "      <td>5.6431</td>\n",
       "      <td>341300.0</td>\n",
       "      <td>NEAR BAY</td>\n",
       "    </tr>\n",
       "    <tr>\n",
       "      <th>4</th>\n",
       "      <td>-122.25</td>\n",
       "      <td>37.85</td>\n",
       "      <td>52.0</td>\n",
       "      <td>1627.0</td>\n",
       "      <td>280.0</td>\n",
       "      <td>565.0</td>\n",
       "      <td>259.0</td>\n",
       "      <td>3.8462</td>\n",
       "      <td>342200.0</td>\n",
       "      <td>NEAR BAY</td>\n",
       "    </tr>\n",
       "  </tbody>\n",
       "</table>\n",
       "</div>"
      ],
      "text/plain": [
       "   longitude  latitude  housing_median_age  total_rooms  total_bedrooms  \\\n",
       "0    -122.23     37.88                41.0        880.0           129.0   \n",
       "1    -122.22     37.86                21.0       7099.0          1106.0   \n",
       "2    -122.24     37.85                52.0       1467.0           190.0   \n",
       "3    -122.25     37.85                52.0       1274.0           235.0   \n",
       "4    -122.25     37.85                52.0       1627.0           280.0   \n",
       "\n",
       "   population  households  median_income  median_house_value ocean_proximity  \n",
       "0       322.0       126.0         8.3252            452600.0        NEAR BAY  \n",
       "1      2401.0      1138.0         8.3014            358500.0        NEAR BAY  \n",
       "2       496.0       177.0         7.2574            352100.0        NEAR BAY  \n",
       "3       558.0       219.0         5.6431            341300.0        NEAR BAY  \n",
       "4       565.0       259.0         3.8462            342200.0        NEAR BAY  "
      ]
     },
     "execution_count": 5,
     "metadata": {},
     "output_type": "execute_result"
    }
   ],
   "source": [
    "housing = load_housing_data()\n",
    "housing.head()"
   ]
  },
  {
   "cell_type": "markdown",
   "id": "2f93c415",
   "metadata": {},
   "source": [
    "각 행은 하나의 구역을 나타냅니다. 특성은 **longitude\tlatitude, housing_median_age, total_rooms, total_bedrooms, population, households, median_income, median_house_value, ocean_proximity** 등 10개 입니다.\n",
    "\n",
    "info() 메서드는 데이터에 대한 간략한 설명과 특히 전체 행의 수, 각 특성의 데이터 타입과 널$^{null}$이 아닌 값의 개수를 확인하는 데 유용합니다."
   ]
  },
  {
   "cell_type": "code",
   "execution_count": 6,
   "id": "a5fbfed5",
   "metadata": {},
   "outputs": [
    {
     "name": "stdout",
     "output_type": "stream",
     "text": [
      "<class 'pandas.core.frame.DataFrame'>\n",
      "RangeIndex: 20640 entries, 0 to 20639\n",
      "Data columns (total 10 columns):\n",
      " #   Column              Non-Null Count  Dtype  \n",
      "---  ------              --------------  -----  \n",
      " 0   longitude           20640 non-null  float64\n",
      " 1   latitude            20640 non-null  float64\n",
      " 2   housing_median_age  20640 non-null  float64\n",
      " 3   total_rooms         20640 non-null  float64\n",
      " 4   total_bedrooms      20433 non-null  float64\n",
      " 5   population          20640 non-null  float64\n",
      " 6   households          20640 non-null  float64\n",
      " 7   median_income       20640 non-null  float64\n",
      " 8   median_house_value  20640 non-null  float64\n",
      " 9   ocean_proximity     20640 non-null  object \n",
      "dtypes: float64(9), object(1)\n",
      "memory usage: 1.6+ MB\n"
     ]
    }
   ],
   "source": [
    "housing.info()"
   ]
  }
 ],
 "metadata": {
  "kernelspec": {
   "display_name": "Python 3 (ipykernel)",
   "language": "python",
   "name": "python3"
  },
  "language_info": {
   "codemirror_mode": {
    "name": "ipython",
    "version": 3
   },
   "file_extension": ".py",
   "mimetype": "text/x-python",
   "name": "python",
   "nbconvert_exporter": "python",
   "pygments_lexer": "ipython3",
   "version": "3.9.13"
  }
 },
 "nbformat": 4,
 "nbformat_minor": 5
}

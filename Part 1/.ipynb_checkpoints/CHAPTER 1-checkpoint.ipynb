{
 "cells": [
  {
   "cell_type": "markdown",
   "id": "ffd65ec8",
   "metadata": {},
   "source": [
    "# 1장 - 한눈에 보는 머신러닝"
   ]
  }
 ],
 "metadata": {
  "kernelspec": {
   "display_name": "Python 3 (ipykernel)",
   "language": "python",
   "name": "python3"
  },
  "language_info": {
   "codemirror_mode": {
    "name": "ipython",
    "version": 3
   },
   "file_extension": ".py",
   "mimetype": "text/x-python",
   "name": "python",
   "nbconvert_exporter": "python",
   "pygments_lexer": "ipython3",
   "version": "3.9.13"
  }
 },
 "nbformat": 4,
 "nbformat_minor": 5
}
